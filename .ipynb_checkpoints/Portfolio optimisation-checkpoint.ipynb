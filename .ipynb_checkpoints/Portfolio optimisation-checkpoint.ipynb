{
 "cells": [
  {
   "cell_type": "markdown",
   "metadata": {},
   "source": [
    "**Description\n",
    "This code provide the best portfolio of multiple assets based on expected return and variance.\n",
    "The steps of optimization are below.\n",
    "    1.\n",
    "    2.\n",
    "    3.\n",
    "    4.\n",
    "    5."
   ]
  },
  {
   "cell_type": "code",
   "execution_count": 138,
   "metadata": {},
   "outputs": [
    {
     "ename": "ImportError",
     "evalue": "No module named matplotlib.pyplot",
     "output_type": "error",
     "traceback": [
      "\u001b[0;31m---------------------------------------------------------------------------\u001b[0m",
      "\u001b[0;31mImportError\u001b[0m                               Traceback (most recent call last)",
      "\u001b[0;32m<ipython-input-138-3561d61e2b38>\u001b[0m in \u001b[0;36m<module>\u001b[0;34m()\u001b[0m\n\u001b[1;32m      5\u001b[0m \u001b[0;32mimport\u001b[0m \u001b[0mdatetime\u001b[0m\u001b[0;34m\u001b[0m\u001b[0m\n\u001b[1;32m      6\u001b[0m \u001b[0;32mfrom\u001b[0m \u001b[0mcollections\u001b[0m \u001b[0;32mimport\u001b[0m \u001b[0mOrderedDict\u001b[0m\u001b[0;34m\u001b[0m\u001b[0m\n\u001b[0;32m----> 7\u001b[0;31m \u001b[0;32mimport\u001b[0m \u001b[0mmatplotlib\u001b[0m\u001b[0;34m.\u001b[0m\u001b[0mpyplot\u001b[0m \u001b[0;32mas\u001b[0m \u001b[0mplt\u001b[0m\u001b[0;34m\u001b[0m\u001b[0m\n\u001b[0m",
      "\u001b[0;31mImportError\u001b[0m: No module named matplotlib.pyplot"
     ]
    }
   ],
   "source": [
    "import numpy as np\n",
    "import scipy as sc\n",
    "from pulp import *\n",
    "import pandas as pd\n",
    "import datetime\n",
    "from collections import OrderedDict\n",
    "import matplotlib.pyplot as plt"
   ]
  },
  {
   "cell_type": "code",
   "execution_count": 98,
   "metadata": {},
   "outputs": [
    {
     "name": "stdout",
     "output_type": "stream",
     "text": [
      "<class 'pandas.core.frame.DataFrame'>\n",
      "RangeIndex: 15120 entries, 0 to 15119\n",
      "Data columns (total 3 columns):\n",
      "date      15120 non-null object\n",
      "ticker    15120 non-null object\n",
      "price     15120 non-null float64\n",
      "dtypes: float64(1), object(2)\n",
      "memory usage: 354.4+ KB\n"
     ]
    }
   ],
   "source": [
    "df = pd.read_csv('./portfolio_analysis.csv',header=0)\n",
    "df.describe()\n",
    "df.info()\n",
    "ticker_list=df.ticker.unique()\n",
    "num_asset=df.ticker.nunique()"
   ]
  },
  {
   "cell_type": "code",
   "execution_count": 99,
   "metadata": {},
   "outputs": [
    {
     "name": "stdout",
     "output_type": "stream",
     "text": [
      "no problem!\n"
     ]
    }
   ],
   "source": [
    "#Check each ticker has the same date range\n",
    "check1=df.groupby('ticker').date.nunique()\n",
    "if check1.describe()['max']==check1.describe()['min']:\n",
    "    print('no problem!')\n",
    "else:\n",
    "    print('each ticker needs to have the same time range')\n",
    "\n",
    "    "
   ]
  },
  {
   "cell_type": "code",
   "execution_count": 100,
   "metadata": {},
   "outputs": [],
   "source": [
    "#Transform date value to python date\n",
    "for i in range(len(df)):\n",
    "    try:\n",
    "        df.iloc[i,0]=datetime.datetime.strptime(df.iloc[i,0],'%m/%d/%Y')\n",
    "    except ValueError:\n",
    "        df.iloc[i,0]=datetime.datetime.strptime(df.iloc[i,0],'%m/%d/%y')\n",
    "        "
   ]
  },
  {
   "cell_type": "code",
   "execution_count": 101,
   "metadata": {},
   "outputs": [],
   "source": [
    "#Initialise portfolio to each asset and calculate returns\n",
    "portfolio_dic=OrderedDict()\n",
    "variance_dic=OrderedDict()\n",
    "return_dic=OrderedDict()\n",
    "cov_dic=OrderedDict()\n",
    "finished_ticker=[]\n",
    "for ticker in ticker_list:\n",
    "    #print(ticker)\n",
    "    portfolio_dic[ticker]= 1.0/num_asset\n",
    "    variance_dic[ticker]=0\n",
    "    return_dic[ticker]=0\n",
    "    for d_ticker in ticker_list:\n",
    "        if d_ticker == ticker or d_ticker in finished_ticker:\n",
    "            pass\n",
    "        else:\n",
    "            d_ticker_n = ticker + '_' + d_ticker\n",
    "            cov_dic[d_ticker_n] = 0\n",
    "            finished_ticker.append(ticker)\n",
    "    \n"
   ]
  },
  {
   "cell_type": "code",
   "execution_count": 102,
   "metadata": {},
   "outputs": [
    {
     "name": "stdout",
     "output_type": "stream",
     "text": [
      "<class 'pandas.core.frame.DataFrame'>\n",
      "DatetimeIndex: 1512 entries, 2010-06-30 to 2016-06-30\n",
      "Data columns (total 10 columns):\n",
      "(price, DJI)     1512 non-null float64\n",
      "(price, app)     1512 non-null float64\n",
      "(price, bidu)    1512 non-null float64\n",
      "(price, dis)     1512 non-null float64\n",
      "(price, goo)     1512 non-null float64\n",
      "(price, msft)    1512 non-null float64\n",
      "(price, tsla)    1512 non-null float64\n",
      "(price, ttm)     1512 non-null float64\n",
      "(price, wfc)     1512 non-null float64\n",
      "(price, xom)     1512 non-null float64\n",
      "dtypes: float64(10)\n",
      "memory usage: 129.9 KB\n"
     ]
    }
   ],
   "source": [
    "df_pivot=df.pivot_table(index=['date'],columns=['ticker'],values=['price'])\n",
    "df_pivot=df_pivot.sort_values('date')\n",
    "df_pivot.info()\n",
    "#df_pivot.index=df_pivot['date']"
   ]
  },
  {
   "cell_type": "code",
   "execution_count": 103,
   "metadata": {},
   "outputs": [
    {
     "data": {
      "text/html": [
       "<div>\n",
       "<style scoped>\n",
       "    .dataframe tbody tr th:only-of-type {\n",
       "        vertical-align: middle;\n",
       "    }\n",
       "\n",
       "    .dataframe tbody tr th {\n",
       "        vertical-align: top;\n",
       "    }\n",
       "\n",
       "    .dataframe thead tr th {\n",
       "        text-align: left;\n",
       "    }\n",
       "\n",
       "    .dataframe thead tr:last-of-type th {\n",
       "        text-align: right;\n",
       "    }\n",
       "</style>\n",
       "<table border=\"1\" class=\"dataframe\">\n",
       "  <thead>\n",
       "    <tr>\n",
       "      <th></th>\n",
       "      <th colspan=\"10\" halign=\"left\">price</th>\n",
       "    </tr>\n",
       "    <tr>\n",
       "      <th>ticker</th>\n",
       "      <th>DJI</th>\n",
       "      <th>app</th>\n",
       "      <th>bidu</th>\n",
       "      <th>dis</th>\n",
       "      <th>goo</th>\n",
       "      <th>msft</th>\n",
       "      <th>tsla</th>\n",
       "      <th>ttm</th>\n",
       "      <th>wfc</th>\n",
       "      <th>xom</th>\n",
       "    </tr>\n",
       "    <tr>\n",
       "      <th>date</th>\n",
       "      <th></th>\n",
       "      <th></th>\n",
       "      <th></th>\n",
       "      <th></th>\n",
       "      <th></th>\n",
       "      <th></th>\n",
       "      <th></th>\n",
       "      <th></th>\n",
       "      <th></th>\n",
       "      <th></th>\n",
       "    </tr>\n",
       "  </thead>\n",
       "  <tbody>\n",
       "    <tr>\n",
       "      <th>2010-07-01</th>\n",
       "      <td>-0.004245</td>\n",
       "      <td>-0.012126</td>\n",
       "      <td>0.006904</td>\n",
       "      <td>-0.000317</td>\n",
       "      <td>-0.012271</td>\n",
       "      <td>0.006519</td>\n",
       "      <td>-0.078473</td>\n",
       "      <td>0.011053</td>\n",
       "      <td>-0.016406</td>\n",
       "      <td>-0.008060</td>\n",
       "    </tr>\n",
       "    <tr>\n",
       "      <th>2010-07-02</th>\n",
       "      <td>-0.004732</td>\n",
       "      <td>-0.006198</td>\n",
       "      <td>-0.014588</td>\n",
       "      <td>-0.003493</td>\n",
       "      <td>-0.006690</td>\n",
       "      <td>0.004750</td>\n",
       "      <td>-0.125683</td>\n",
       "      <td>-0.012658</td>\n",
       "      <td>-0.011914</td>\n",
       "      <td>-0.000707</td>\n",
       "    </tr>\n",
       "    <tr>\n",
       "      <th>2010-07-06</th>\n",
       "      <td>0.005899</td>\n",
       "      <td>0.006844</td>\n",
       "      <td>-0.001480</td>\n",
       "      <td>0.010835</td>\n",
       "      <td>-0.001099</td>\n",
       "      <td>0.023636</td>\n",
       "      <td>-0.160937</td>\n",
       "      <td>0.006410</td>\n",
       "      <td>0.010852</td>\n",
       "      <td>0.015733</td>\n",
       "    </tr>\n",
       "    <tr>\n",
       "      <th>2010-07-07</th>\n",
       "      <td>0.028189</td>\n",
       "      <td>0.040381</td>\n",
       "      <td>0.072943</td>\n",
       "      <td>0.044767</td>\n",
       "      <td>0.032403</td>\n",
       "      <td>0.020151</td>\n",
       "      <td>-0.019243</td>\n",
       "      <td>0.001737</td>\n",
       "      <td>0.060040</td>\n",
       "      <td>0.016881</td>\n",
       "    </tr>\n",
       "    <tr>\n",
       "      <th>2010-07-08</th>\n",
       "      <td>0.012049</td>\n",
       "      <td>-0.002242</td>\n",
       "      <td>0.000829</td>\n",
       "      <td>0.006035</td>\n",
       "      <td>0.014127</td>\n",
       "      <td>0.004527</td>\n",
       "      <td>0.105063</td>\n",
       "      <td>0.015029</td>\n",
       "      <td>-0.000750</td>\n",
       "      <td>0.006504</td>\n",
       "    </tr>\n",
       "  </tbody>\n",
       "</table>\n",
       "</div>"
      ],
      "text/plain": [
       "               price                                                    \\\n",
       "ticker           DJI       app      bidu       dis       goo      msft   \n",
       "date                                                                     \n",
       "2010-07-01 -0.004245 -0.012126  0.006904 -0.000317 -0.012271  0.006519   \n",
       "2010-07-02 -0.004732 -0.006198 -0.014588 -0.003493 -0.006690  0.004750   \n",
       "2010-07-06  0.005899  0.006844 -0.001480  0.010835 -0.001099  0.023636   \n",
       "2010-07-07  0.028189  0.040381  0.072943  0.044767  0.032403  0.020151   \n",
       "2010-07-08  0.012049 -0.002242  0.000829  0.006035  0.014127  0.004527   \n",
       "\n",
       "                                                    \n",
       "ticker          tsla       ttm       wfc       xom  \n",
       "date                                                \n",
       "2010-07-01 -0.078473  0.011053 -0.016406 -0.008060  \n",
       "2010-07-02 -0.125683 -0.012658 -0.011914 -0.000707  \n",
       "2010-07-06 -0.160937  0.006410  0.010852  0.015733  \n",
       "2010-07-07 -0.019243  0.001737  0.060040  0.016881  \n",
       "2010-07-08  0.105063  0.015029 -0.000750  0.006504  "
      ]
     },
     "execution_count": 103,
     "metadata": {},
     "output_type": "execute_result"
    }
   ],
   "source": [
    "#Transform daily price table to return table\n",
    "df_return = df_pivot.copy()\n",
    "for ticker_n in df_pivot.columns:\n",
    "    if ticker_n == 'date':\n",
    "        print('calc start')\n",
    "    else:\n",
    "        p_series=df_pivot[ticker_n]\n",
    "        r_series=df_return[ticker_n]\n",
    "        for i in range(len(df_pivot)-1):\n",
    "            r_series[i+1] = float((p_series[i+1]-p_series[i]))/p_series[i]\n",
    "        \n",
    "        df_return[ticker_n]=r_series\n",
    "            \n",
    "df_return=df_return.iloc[1:,:]        \n",
    "df_return.head()  "
   ]
  },
  {
   "cell_type": "code",
   "execution_count": 134,
   "metadata": {},
   "outputs": [
    {
     "name": "stdout",
     "output_type": "stream",
     "text": [
      "['DJI', 'msft', 'wfc', 'xom', 'ttm', 'dis', 'goo', 'app', 'bidu', 'tsla']\n"
     ]
    }
   ],
   "source": [
    "#calculate average return and variance of single ticker \n",
    "for ticker in ticker_list:\n",
    "    return_dic[ticker]=df_return[('price',ticker)].mean()\n",
    "    variance_dic[ticker]=df_return[('price',ticker)].var()\n",
    "\n",
    "print(return_dic.keys())\n",
    "#print(variance_dic)\n",
    "#print(return_dic.values())"
   ]
  },
  {
   "cell_type": "code",
   "execution_count": 120,
   "metadata": {},
   "outputs": [
    {
     "data": {
      "text/plain": [
       "matrix([[8.30000897e-05, 7.47072542e-05, 1.08913240e-04, 9.37544690e-05,\n",
       "         8.07356661e-05, 8.66097404e-05, 1.02847403e-04, 1.23899277e-04,\n",
       "         1.11195907e-04, 8.42567614e-05],\n",
       "        [7.47072542e-05, 2.72782344e-04, 1.40296481e-04, 7.98862334e-05,\n",
       "         1.03414520e-04, 9.12580849e-05, 1.23927171e-04, 1.26329879e-04,\n",
       "         9.95964543e-05, 6.77223402e-05],\n",
       "        [1.08913240e-04, 1.40296481e-04, 6.22026157e-04, 1.30847181e-04,\n",
       "         1.70945182e-04, 1.26242644e-04, 2.13434725e-04, 2.21428112e-04,\n",
       "         1.54870034e-04, 9.81073778e-05],\n",
       "        [9.37544690e-05, 7.98862334e-05, 1.30847181e-04, 1.88609851e-04,\n",
       "         9.18241075e-05, 9.35788060e-05, 1.31654741e-04, 1.39496151e-04,\n",
       "         1.31415440e-04, 8.81123269e-05],\n",
       "        [8.07356661e-05, 1.03414520e-04, 1.70945182e-04, 9.18241075e-05,\n",
       "         2.55943854e-04, 1.07847095e-04, 1.34821267e-04, 1.18943197e-04,\n",
       "         1.08060043e-04, 7.47258714e-05],\n",
       "        [8.66097404e-05, 9.12580849e-05, 1.26242644e-04, 9.35788060e-05,\n",
       "         1.07847095e-04, 2.19570645e-04, 1.14292766e-04, 1.33910808e-04,\n",
       "         1.13971192e-04, 8.16323998e-05],\n",
       "        [1.02847403e-04, 1.23927171e-04, 2.13434725e-04, 1.31654741e-04,\n",
       "         1.34821267e-04, 1.14292766e-04, 1.17087482e-03, 2.22833238e-04,\n",
       "         1.37054307e-04, 9.75035160e-05],\n",
       "        [1.23899277e-04, 1.26329879e-04, 2.21428112e-04, 1.39496151e-04,\n",
       "         1.18943197e-04, 1.33910808e-04, 2.22833238e-04, 6.16662064e-04,\n",
       "         1.72964034e-04, 1.18770084e-04],\n",
       "        [1.11195907e-04, 9.95964543e-05, 1.54870034e-04, 1.31415440e-04,\n",
       "         1.08060043e-04, 1.13971192e-04, 1.37054307e-04, 1.72964034e-04,\n",
       "         2.44797449e-04, 1.10318142e-04],\n",
       "        [8.42567614e-05, 6.77223402e-05, 9.81073778e-05, 8.81123269e-05,\n",
       "         7.47258714e-05, 8.16323998e-05, 9.75035160e-05, 1.18770084e-04,\n",
       "         1.10318142e-04, 1.43423600e-04]])"
      ]
     },
     "execution_count": 120,
     "metadata": {},
     "output_type": "execute_result"
    }
   ],
   "source": [
    "np_return=np.array(df_return)\n",
    "#np_return.shape\n",
    "num_cov=np.cov(np_return.T)\n",
    "m_cov=np.asmatrix(num_cov)\n",
    "m_cov"
   ]
  },
  {
   "cell_type": "code",
   "execution_count": 83,
   "metadata": {},
   "outputs": [
    {
     "data": {
      "text/plain": [
       "{'DJI_app': 7.470725419556144e-05,\n",
       " 'DJI_bidu': 0.00010891323996671584,\n",
       " 'DJI_dis': 9.375446899505046e-05,\n",
       " 'DJI_goo': 8.073566610501738e-05,\n",
       " 'DJI_msft': 8.660974043533742e-05,\n",
       " 'DJI_tsla': 0.00010284740257923347,\n",
       " 'DJI_ttm': 0.0001238992774553502,\n",
       " 'DJI_wfc': 0.00011119590704170719,\n",
       " 'DJI_xom': 8.425676141847684e-05,\n",
       " 'app_bidu': 0.000140296480836323,\n",
       " 'app_tsla': 0.0001239271707546889,\n",
       " 'bidu_tsla': 0.0002134347247032505,\n",
       " 'dis_app': 7.988623339163137e-05,\n",
       " 'dis_bidu': 0.0001308471806014248,\n",
       " 'dis_goo': 9.182410747439948e-05,\n",
       " 'dis_tsla': 0.00013165474093249001,\n",
       " 'goo_app': 0.00010341451999689381,\n",
       " 'goo_bidu': 0.0001709451819531006,\n",
       " 'goo_tsla': 0.0001348212665176272,\n",
       " 'msft_app': 9.125808491466684e-05,\n",
       " 'msft_bidu': 0.000126242644196772,\n",
       " 'msft_dis': 9.357880598497276e-05,\n",
       " 'msft_goo': 0.00010784709462545551,\n",
       " 'msft_tsla': 0.0001142927661986387,\n",
       " 'msft_ttm': 0.00013391080751649426,\n",
       " 'msft_wfc': 0.00011397119200888467,\n",
       " 'msft_xom': 8.163239984643085e-05,\n",
       " 'ttm_app': 0.00012632987940515157,\n",
       " 'ttm_bidu': 0.0002214281124996718,\n",
       " 'ttm_dis': 0.0001394961506510082,\n",
       " 'ttm_goo': 0.00011894319746809667,\n",
       " 'ttm_tsla': 0.00022283323823272809,\n",
       " 'wfc_app': 9.959645429068294e-05,\n",
       " 'wfc_bidu': 0.0001548700337259454,\n",
       " 'wfc_dis': 0.00013141543974829045,\n",
       " 'wfc_goo': 0.0001080600430259885,\n",
       " 'wfc_tsla': 0.00013705430721504462,\n",
       " 'wfc_ttm': 0.00017296403368884444,\n",
       " 'wfc_xom': 0.00011031814150059912,\n",
       " 'xom_app': 6.772234021492402e-05,\n",
       " 'xom_bidu': 9.81073777721304e-05,\n",
       " 'xom_dis': 8.811232692466635e-05,\n",
       " 'xom_goo': 7.472587140629276e-05,\n",
       " 'xom_tsla': 9.75035159819808e-05,\n",
       " 'xom_ttm': 0.00011877008395061404}"
      ]
     },
     "execution_count": 83,
     "metadata": {},
     "output_type": "execute_result"
    }
   ],
   "source": [
    "#calculate co-variance of 2 tickers\n",
    "df_cov=df_return.cov()\n",
    "for ticker_comb in cov_dic.keys():\n",
    "    f_ticker,l_ticker=ticker_comb.split('_')\n",
    "    cov_dic[ticker_comb]=df_cov[('price',f_ticker)][('price',l_ticker)]\n",
    "cov_dic"
   ]
  },
  {
   "cell_type": "code",
   "execution_count": 127,
   "metadata": {},
   "outputs": [],
   "source": [
    "#set number of runs of random portfolio weights\n",
    "num_portfolios = 250000\n",
    " \n",
    "#set up array to hold results\n",
    "#We have increased the size of the array to hold the weight values for each stock\n",
    "results = np.zeros((4+len(ticker_list)-1,num_portfolios))\n",
    "\n",
    "for i in xrange(num_portfolios):\n",
    "    #select random weights for portfolio holdings\n",
    "    weights = np.array(np.random.random(len(ticker_list)))\n",
    "    #rebalance weights to sum to 1\n",
    "    weights /= np.sum(weights)\n",
    "    weights=weights.reshape((len(ticker_list),1))\n",
    "    \n",
    "    #calculate portfolio return and volatility\n",
    "    portfolio_return = np.sum(np.array(return_dic.values()) * weights)\n",
    "    portfolio_std_dev = np.sqrt(np.dot(weights.T,np.dot(m_cov, weights)))\n",
    "    \n",
    "    #store results in results array\n",
    "    results[0,i] = portfolio_return\n",
    "    results[1,i] = portfolio_std_dev\n",
    "    #store Sharpe Ratio (return / volatility) - risk free rate element excluded for simplicity\n",
    "    results[2,i] = results[0,i] / results[1,i]\n",
    "    #iterate through the weight vector and add data to results array\n",
    "    for j in range(len(weights)):\n",
    "        results[j+3,i] = weights[j]\n"
   ]
  },
  {
   "cell_type": "code",
   "execution_count": 136,
   "metadata": {},
   "outputs": [
    {
     "data": {
      "text/plain": [
       "['return',\n",
       " 'stdev',\n",
       " 'sharpe',\n",
       " 'DJI',\n",
       " 'msft',\n",
       " 'wfc',\n",
       " 'xom',\n",
       " 'ttm',\n",
       " 'dis',\n",
       " 'goo',\n",
       " 'app',\n",
       " 'bidu',\n",
       " 'tsla']"
      ]
     },
     "execution_count": 136,
     "metadata": {},
     "output_type": "execute_result"
    }
   ],
   "source": [
    "result_columns =['return','stdev','sharpe']\n",
    "result_columns.extend(return_dic.keys())\n",
    "result_columns\n",
    "results_frame = pd.DataFrame(results.T,columns=result_columns)\n",
    "max_sharpe_port = results_frame.iloc[results_frame['sharpe'].idxmax()]\n",
    "min_vol_port = results_frame.iloc[results_frame['stdev'].idxmin()]\n",
    "plt.scatter(results_frame.stdev,results_frame.ret,c=results_frame.sharpe,cmap='RdYlBu')\n",
    "plt.xlabel('Volatility')\n",
    "plt.ylabel('Returns')\n",
    "plt.colorbar()"
   ]
  },
  {
   "cell_type": "code",
   "execution_count": 137,
   "metadata": {},
   "outputs": [],
   "source": []
  },
  {
   "cell_type": "code",
   "execution_count": 88,
   "metadata": {},
   "outputs": [
    {
     "ename": "TypeError",
     "evalue": "Non-constant expressions cannot be multiplied",
     "output_type": "error",
     "traceback": [
      "\u001b[0;31m---------------------------------------------------------------------------\u001b[0m",
      "\u001b[0;31mTypeError\u001b[0m                                 Traceback (most recent call last)",
      "\u001b[0;32m<ipython-input-88-b0aa783b6f60>\u001b[0m in \u001b[0;36m<module>\u001b[0;34m()\u001b[0m\n\u001b[0;32m----> 1\u001b[0;31m \u001b[0mproblem\u001b[0m \u001b[0;34m=\u001b[0m \u001b[0mlpSum\u001b[0m\u001b[0;34m(\u001b[0m\u001b[0;34m[\u001b[0m\u001b[0mvars\u001b[0m\u001b[0;34m[\u001b[0m\u001b[0mt\u001b[0m\u001b[0;34m]\u001b[0m\u001b[0;34m*\u001b[0m\u001b[0mvars\u001b[0m\u001b[0;34m[\u001b[0m\u001b[0mt\u001b[0m\u001b[0;34m]\u001b[0m\u001b[0;34m*\u001b[0m\u001b[0mvariance_dic\u001b[0m\u001b[0;34m[\u001b[0m\u001b[0mt\u001b[0m\u001b[0;34m]\u001b[0m \u001b[0;32mfor\u001b[0m \u001b[0mt\u001b[0m \u001b[0;32min\u001b[0m \u001b[0mticker_list\u001b[0m\u001b[0;34m]\u001b[0m\u001b[0;34m+\u001b[0m\u001b[0;34m[\u001b[0m\u001b[0;36m2\u001b[0m\u001b[0;34m*\u001b[0m\u001b[0mvars\u001b[0m\u001b[0;34m[\u001b[0m\u001b[0mn\u001b[0m\u001b[0;34m.\u001b[0m\u001b[0msplit\u001b[0m\u001b[0;34m(\u001b[0m\u001b[0;34m'_'\u001b[0m\u001b[0;34m)\u001b[0m\u001b[0;34m[\u001b[0m\u001b[0;36m0\u001b[0m\u001b[0;34m]\u001b[0m\u001b[0;34m]\u001b[0m\u001b[0;34m*\u001b[0m\u001b[0mvars\u001b[0m\u001b[0;34m[\u001b[0m\u001b[0mn\u001b[0m\u001b[0;34m.\u001b[0m\u001b[0msplit\u001b[0m\u001b[0;34m(\u001b[0m\u001b[0;34m'_'\u001b[0m\u001b[0;34m)\u001b[0m\u001b[0;34m[\u001b[0m\u001b[0;36m1\u001b[0m\u001b[0;34m]\u001b[0m\u001b[0;34m]\u001b[0m\u001b[0;34m*\u001b[0m\u001b[0mcov\u001b[0m\u001b[0;34m[\u001b[0m\u001b[0mn\u001b[0m\u001b[0;34m]\u001b[0m \u001b[0;32mfor\u001b[0m \u001b[0mn\u001b[0m \u001b[0;32min\u001b[0m \u001b[0mcov_dic\u001b[0m\u001b[0;34m.\u001b[0m\u001b[0mkeys\u001b[0m\u001b[0;34m(\u001b[0m\u001b[0;34m)\u001b[0m\u001b[0;34m]\u001b[0m\u001b[0;34m)\u001b[0m\u001b[0;34m\u001b[0m\u001b[0m\n\u001b[0m",
      "\u001b[0;32m/home/dev-cory/.local/share/virtualenvs/portfolio_analysis-BYAa6zXe/local/lib/python2.7/site-packages/pulp/pulp.pyc\u001b[0m in \u001b[0;36m__mul__\u001b[0;34m(self, other)\u001b[0m\n\u001b[1;32m    208\u001b[0m \u001b[0;34m\u001b[0m\u001b[0m\n\u001b[1;32m    209\u001b[0m     \u001b[0;32mdef\u001b[0m \u001b[0m__mul__\u001b[0m\u001b[0;34m(\u001b[0m\u001b[0mself\u001b[0m\u001b[0;34m,\u001b[0m \u001b[0mother\u001b[0m\u001b[0;34m)\u001b[0m\u001b[0;34m:\u001b[0m\u001b[0;34m\u001b[0m\u001b[0m\n\u001b[0;32m--> 210\u001b[0;31m         \u001b[0;32mreturn\u001b[0m \u001b[0mLpAffineExpression\u001b[0m\u001b[0;34m(\u001b[0m\u001b[0mself\u001b[0m\u001b[0;34m)\u001b[0m \u001b[0;34m*\u001b[0m \u001b[0mother\u001b[0m\u001b[0;34m\u001b[0m\u001b[0m\n\u001b[0m\u001b[1;32m    211\u001b[0m \u001b[0;34m\u001b[0m\u001b[0m\n\u001b[1;32m    212\u001b[0m     \u001b[0;32mdef\u001b[0m \u001b[0m__rmul__\u001b[0m\u001b[0;34m(\u001b[0m\u001b[0mself\u001b[0m\u001b[0;34m,\u001b[0m \u001b[0mother\u001b[0m\u001b[0;34m)\u001b[0m\u001b[0;34m:\u001b[0m\u001b[0;34m\u001b[0m\u001b[0m\n",
      "\u001b[0;32m/home/dev-cory/.local/share/virtualenvs/portfolio_analysis-BYAa6zXe/local/lib/python2.7/site-packages/pulp/pulp.pyc\u001b[0m in \u001b[0;36m__mul__\u001b[0;34m(self, other)\u001b[0m\n\u001b[1;32m    785\u001b[0m                         \u001b[0me\u001b[0m\u001b[0;34m[\u001b[0m\u001b[0mv\u001b[0m\u001b[0;34m]\u001b[0m \u001b[0;34m=\u001b[0m \u001b[0mc\u001b[0m \u001b[0;34m*\u001b[0m \u001b[0mx\u001b[0m\u001b[0;34m\u001b[0m\u001b[0m\n\u001b[1;32m    786\u001b[0m         \u001b[0;32melif\u001b[0m \u001b[0misinstance\u001b[0m\u001b[0;34m(\u001b[0m\u001b[0mother\u001b[0m\u001b[0;34m,\u001b[0m\u001b[0mLpVariable\u001b[0m\u001b[0;34m)\u001b[0m\u001b[0;34m:\u001b[0m\u001b[0;34m\u001b[0m\u001b[0m\n\u001b[0;32m--> 787\u001b[0;31m             \u001b[0;32mreturn\u001b[0m \u001b[0mself\u001b[0m \u001b[0;34m*\u001b[0m \u001b[0mLpAffineExpression\u001b[0m\u001b[0;34m(\u001b[0m\u001b[0mother\u001b[0m\u001b[0;34m)\u001b[0m\u001b[0;34m\u001b[0m\u001b[0m\n\u001b[0m\u001b[1;32m    788\u001b[0m         \u001b[0;32melse\u001b[0m\u001b[0;34m:\u001b[0m\u001b[0;34m\u001b[0m\u001b[0m\n\u001b[1;32m    789\u001b[0m             \u001b[0;32mif\u001b[0m \u001b[0mother\u001b[0m \u001b[0;34m!=\u001b[0m \u001b[0;36m0\u001b[0m\u001b[0;34m:\u001b[0m\u001b[0;34m\u001b[0m\u001b[0m\n",
      "\u001b[0;32m/home/dev-cory/.local/share/virtualenvs/portfolio_analysis-BYAa6zXe/local/lib/python2.7/site-packages/pulp/pulp.pyc\u001b[0m in \u001b[0;36m__mul__\u001b[0;34m(self, other)\u001b[0m\n\u001b[1;32m    773\u001b[0m             \u001b[0;32mif\u001b[0m \u001b[0mlen\u001b[0m\u001b[0;34m(\u001b[0m\u001b[0mother\u001b[0m\u001b[0;34m)\u001b[0m\u001b[0;34m:\u001b[0m\u001b[0;34m\u001b[0m\u001b[0m\n\u001b[1;32m    774\u001b[0m                 \u001b[0;32mif\u001b[0m \u001b[0mlen\u001b[0m\u001b[0;34m(\u001b[0m\u001b[0mself\u001b[0m\u001b[0;34m)\u001b[0m\u001b[0;34m:\u001b[0m\u001b[0;34m\u001b[0m\u001b[0m\n\u001b[0;32m--> 775\u001b[0;31m                     \u001b[0;32mraise\u001b[0m \u001b[0mTypeError\u001b[0m\u001b[0;34m(\u001b[0m\u001b[0;34m\"Non-constant expressions cannot be multiplied\"\u001b[0m\u001b[0;34m)\u001b[0m\u001b[0;34m\u001b[0m\u001b[0m\n\u001b[0m\u001b[1;32m    776\u001b[0m                 \u001b[0;32melse\u001b[0m\u001b[0;34m:\u001b[0m\u001b[0;34m\u001b[0m\u001b[0m\n\u001b[1;32m    777\u001b[0m                     \u001b[0mc\u001b[0m \u001b[0;34m=\u001b[0m \u001b[0mself\u001b[0m\u001b[0;34m.\u001b[0m\u001b[0mconstant\u001b[0m\u001b[0;34m\u001b[0m\u001b[0m\n",
      "\u001b[0;31mTypeError\u001b[0m: Non-constant expressions cannot be multiplied"
     ]
    }
   ],
   "source": [
    "problem = pulp.LpProblem('Problem Name', pulp.LpMaximize)\n",
    "vars = pulp.LpVariable.dicts('portfolio',ticker_list, 0, 1, 'Continuous')\n",
    "problem = lpSum([vars[t]*vars[t]*variance_dic[t] for t in ticker_list]+[2*vars[n.split('_')[0]]*vars[n.split('_')[1]]*cov[n] for n in cov_dic.keys()])"
   ]
  },
  {
   "cell_type": "code",
   "execution_count": null,
   "metadata": {},
   "outputs": [],
   "source": []
  },
  {
   "cell_type": "code",
   "execution_count": null,
   "metadata": {},
   "outputs": [],
   "source": []
  },
  {
   "cell_type": "code",
   "execution_count": null,
   "metadata": {},
   "outputs": [],
   "source": [
    "#Visualisation\n",
    "\n"
   ]
  }
 ],
 "metadata": {
  "kernelspec": {
   "display_name": "Python 3",
   "language": "python",
   "name": "python3"
  },
  "language_info": {
   "codemirror_mode": {
    "name": "ipython",
    "version": 2
   },
   "file_extension": ".py",
   "mimetype": "text/x-python",
   "name": "python",
   "nbconvert_exporter": "python",
   "pygments_lexer": "ipython2",
   "version": "2.7.13"
  }
 },
 "nbformat": 4,
 "nbformat_minor": 2
}
