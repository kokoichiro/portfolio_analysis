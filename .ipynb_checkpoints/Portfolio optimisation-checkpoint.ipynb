{
 "cells": [
  {
   "cell_type": "markdown",
   "metadata": {},
   "source": [
    "# Description\n",
    "## Objetive\n",
    "This code provide the best portfolio of multiple assets based on expected return and variance.\n",
    "<br>\n",
    "## Process\n",
    "The steps of optimization are as follows.\n",
    "> -  1.Import necessary modules\n",
    "> -  2.Ingest data from csv\n",
    "> -  3.Transform datetime data to Python datetime\n",
    "> -  4.Pivot the table and calculate return of each time series\n",
    "> -  5.Calculate necessary parameters like average return, variance and co-variance\n",
    "> -  6.Calculate returns, risk and sharpe rate in 250000 different portfolio allocation\n",
    "> -  7.Visualise it and understand the best equity.\n",
    "<br>\n",
    "## References\n",
    "https://www.investopedia.com/terms/e/efficientfrontier.asp\n",
    "https://www.investopedia.com/terms/s/sharperatio.asp\n"
   ]
  },
  {
   "cell_type": "code",
   "execution_count": 67,
   "metadata": {},
   "outputs": [],
   "source": [
    "import numpy as np\n",
    "import scipy as sc\n",
    "from pulp import *\n",
    "import pandas as pd\n",
    "import datetime\n",
    "from collections import OrderedDict\n",
    "import matplotlib.pyplot as plt\n",
    "import seaborn as sns"
   ]
  },
  {
   "cell_type": "code",
   "execution_count": 97,
   "metadata": {},
   "outputs": [
    {
     "name": "stdout",
     "output_type": "stream",
     "text": [
      "<class 'pandas.core.frame.DataFrame'>\n",
      "Int64Index: 13608 entries, 1512 to 15119\n",
      "Data columns (total 3 columns):\n",
      "date      13608 non-null object\n",
      "ticker    13608 non-null object\n",
      "price     13608 non-null float64\n",
      "dtypes: float64(1), object(2)\n",
      "memory usage: 425.2+ KB\n"
     ]
    }
   ],
   "source": [
    "df = pd.read_csv('./portfolio_analysis.csv',header=0)\n",
    "df=df[df['ticker']!='DJI']\n",
    "df.describe()\n",
    "df.info()\n",
    "ticker_list=df.ticker.unique()\n",
    "num_asset=df.ticker.nunique()"
   ]
  },
  {
   "cell_type": "code",
   "execution_count": 98,
   "metadata": {},
   "outputs": [
    {
     "name": "stdout",
     "output_type": "stream",
     "text": [
      "no problem!\n"
     ]
    }
   ],
   "source": [
    "#Check each ticker has the same date range\n",
    "check1=df.groupby('ticker').date.nunique()\n",
    "if check1.describe()['max']==check1.describe()['min']:\n",
    "    print('no problem!')\n",
    "else:\n",
    "    print('each ticker needs to have the same time range')\n",
    "\n",
    "    "
   ]
  },
  {
   "cell_type": "code",
   "execution_count": 99,
   "metadata": {},
   "outputs": [],
   "source": [
    "#Transform date value to python date\n",
    "for i in range(len(df)):\n",
    "    try:\n",
    "        df.iloc[i,0]=datetime.datetime.strptime(df.iloc[i,0],'%m/%d/%Y')\n",
    "    except ValueError:\n",
    "        df.iloc[i,0]=datetime.datetime.strptime(df.iloc[i,0],'%m/%d/%y')\n",
    "        "
   ]
  },
  {
   "cell_type": "code",
   "execution_count": 100,
   "metadata": {},
   "outputs": [],
   "source": [
    "#Initialise portfolio to each asset and calculate returns\n",
    "portfolio_dic=OrderedDict()\n",
    "variance_dic=OrderedDict()\n",
    "return_dic=OrderedDict()\n",
    "cov_dic=OrderedDict()\n",
    "finished_ticker=[]\n",
    "for ticker in ticker_list:\n",
    "    #print(ticker)\n",
    "    portfolio_dic[ticker]= 1.0/num_asset\n",
    "    variance_dic[ticker]=0\n",
    "    return_dic[ticker]=0\n",
    "    for d_ticker in ticker_list:\n",
    "        if d_ticker == ticker or d_ticker in finished_ticker:\n",
    "            pass\n",
    "        else:\n",
    "            d_ticker_n = ticker + '_' + d_ticker\n",
    "            cov_dic[d_ticker_n] = 0\n",
    "            finished_ticker.append(ticker)\n",
    "    \n"
   ]
  },
  {
   "cell_type": "code",
   "execution_count": 101,
   "metadata": {},
   "outputs": [],
   "source": [
    "df_pivot=df.pivot_table(index=['date'],columns=['ticker'],values=['price'])\n",
    "df_pivot=df_pivot.sort_values('date')\n",
    "#df_pivot.info()\n",
    "#df_pivot.index=df_pivot['date']"
   ]
  },
  {
   "cell_type": "code",
   "execution_count": 102,
   "metadata": {},
   "outputs": [],
   "source": [
    "#Transform daily price table to return table\n",
    "df_return = df_pivot.copy()\n",
    "for ticker_n in df_pivot.columns:\n",
    "    if ticker_n == 'date':\n",
    "        print('calc start')\n",
    "    else:\n",
    "        p_series=df_pivot[ticker_n]\n",
    "        r_series=df_return[ticker_n]\n",
    "        for i in range(len(df_pivot)-1):\n",
    "            r_series[i+1] = float((p_series[i+1]-p_series[i]))/p_series[i]\n",
    "        \n",
    "        df_return[ticker_n]=r_series\n",
    "            \n",
    "df_return=df_return.iloc[1:,:]        \n",
    "#df_return.head()  "
   ]
  },
  {
   "cell_type": "code",
   "execution_count": 103,
   "metadata": {},
   "outputs": [
    {
     "name": "stdout",
     "output_type": "stream",
     "text": [
      "['msft', 'wfc', 'xom', 'ttm', 'dis', 'goo', 'app', 'bidu', 'tsla']\n"
     ]
    }
   ],
   "source": [
    "#calculate average return and variance of single ticker \n",
    "for ticker in ticker_list:\n",
    "    return_dic[ticker]=df_return[('price',ticker)].mean()\n",
    "    variance_dic[ticker]=df_return[('price',ticker)].var()\n",
    "\n",
    "print(return_dic.keys())\n",
    "#print(variance_dic)\n",
    "#print(return_dic.values())"
   ]
  },
  {
   "cell_type": "code",
   "execution_count": 104,
   "metadata": {},
   "outputs": [],
   "source": [
    "np_return=np.array(df_return)\n",
    "#np_return.shape\n",
    "num_cov=np.cov(np_return.T)\n",
    "m_cov=np.asmatrix(num_cov)\n",
    "#m_cov"
   ]
  },
  {
   "cell_type": "code",
   "execution_count": 105,
   "metadata": {},
   "outputs": [],
   "source": [
    "#calculate co-variance of 2 tickers\n",
    "df_cov=df_return.cov()\n",
    "for ticker_comb in cov_dic.keys():\n",
    "    f_ticker,l_ticker=ticker_comb.split('_')\n",
    "    cov_dic[ticker_comb]=df_cov[('price',f_ticker)][('price',l_ticker)]\n",
    "#cov_dic"
   ]
  },
  {
   "cell_type": "code",
   "execution_count": 106,
   "metadata": {},
   "outputs": [],
   "source": [
    "#set number of runs of random portfolio weights\n",
    "num_portfolios = 250000\n",
    " \n",
    "#set up array to hold results\n",
    "#We have increased the size of the array to hold the weight values for each stock\n",
    "results = np.zeros((4+len(ticker_list)-1,num_portfolios))\n",
    "\n",
    "for i in xrange(num_portfolios):\n",
    "    #select random weights for portfolio holdings\n",
    "    weights = np.array(np.random.random(len(ticker_list)))\n",
    "    #rebalance weights to sum to 1\n",
    "    weights /= np.sum(weights)\n",
    "    \n",
    "    \n",
    "    #calculate portfolio return and volatility\n",
    "    portfolio_return = np.sum(np.array(return_dic.values()).T * weights)\n",
    "    weights=weights.reshape((len(ticker_list),1))\n",
    "    portfolio_std_dev = np.sqrt(np.dot(weights.T,np.dot(m_cov, weights)))\n",
    "    \n",
    "    #store results in results array\n",
    "    results[0,i] = portfolio_return\n",
    "    results[1,i] = portfolio_std_dev\n",
    "    #store Sharpe Ratio (return / volatility) - risk free rate element excluded for simplicity\n",
    "    results[2,i] = results[0,i] / results[1,i]\n",
    "    #iterate through the weight vector and add data to results array\n",
    "    for j in range(len(weights)):\n",
    "        results[j+3,i] = weights[j]\n"
   ]
  },
  {
   "cell_type": "code",
   "execution_count": 111,
   "metadata": {},
   "outputs": [
    {
     "data": {
      "text/plain": [
       "<matplotlib.colorbar.Colorbar at 0x7ff6cf65d050>"
      ]
     },
     "execution_count": 111,
     "metadata": {},
     "output_type": "execute_result"
    },
    {
     "data": {
      "image/png": "[encoded data removed]",
      "text/plain": [
       "<Figure size 432x288 with 2 Axes>"
      ]
     },
     "metadata": {},
     "output_type": "display_data"
    }
   ],
   "source": [
    "result_columns =['expected_return','stdev','sharpe']\n",
    "result_columns.extend(return_dic.keys())\n",
    "result_columns\n",
    "res = pd.DataFrame(results.T,columns=result_columns)\n",
    "\n",
    "plt.scatter(res.stdev,res.expected_return,c=res.sharpe,cmap='RdYlBu')\n",
    "plt.xlabel('Volatility')\n",
    "plt.ylabel('Returns')\n",
    "plt.axis('tight')\n",
    "plt.axis([0.8*res.stdev.min(), 1.2*res.stdev.max(), 0.8*res.expected_return.min(),1.2*res.expected_return.max()])\n",
    "plt.colorbar()"
   ]
  },
  {
   "cell_type": "code",
   "execution_count": 108,
   "metadata": {},
   "outputs": [],
   "source": [
    "sharpe_max=res[res.sharpe==res.max()['sharpe']]\n",
    "return_max=res[res.expected_return==res.max()['expected_return']]\n",
    "risk_min=res[res.stdev==res.min()['stdev']]\n",
    "\n",
    "\n",
    "#print(sharpe_max)\n",
    "#print(return_max)\n",
    "#print(risk_min)\n"
   ]
  },
  {
   "cell_type": "code",
   "execution_count": 115,
   "metadata": {},
   "outputs": [
    {
     "name": "stdout",
     "output_type": "stream",
     "text": [
      "The best portfolio is\n",
      "tsla:42.7309318525%\n",
      "\n",
      "ttm:14.4771028261%\n",
      "\n",
      "msft:14.2204237951%\n",
      "\n",
      "xom:11.7908013382%\n",
      "\n",
      "dis:11.4038682135%\n",
      "\n",
      "wfc:2.80024221649%\n",
      "\n",
      "goo:1.49615146955%\n",
      "\n",
      "bidu:0.908909343697%\n",
      "\n",
      "app:0.171568944901%\n",
      "\n",
      "Expected return is0.129373912344%.\n",
      "Risk is0.0104462960347.\n",
      "Sharpe rate is12.3846683948%.\n"
     ]
    }
   ],
   "source": [
    "for ticker in ticker_list:\n",
    "    portfolio_dic[ticker] = float(sharpe_max[ticker].values)\n",
    "\n",
    "                                  \n",
    "res_dic=sorted(portfolio_dic.items(), key=lambda x:x[1], reverse=True)\n",
    "#print(res_dic)\n",
    "print('The best portfolio is')\n",
    "for data in res_dic:\n",
    "    print (data[0] + ':' + str(data[1]*100) + '%')\n",
    "    print\n",
    "print('Expected return is' + str(float(sharpe_max['expected_return'].values)*100) + '%.')\n",
    "print('Risk is' + str(float(sharpe_max['stdev'].values)) + '.')\n",
    "print('Sharpe rate is' + str(float(sharpe_max['sharpe'].values)*100) + '%.')"
   ]
  },
  {
   "cell_type": "code",
   "execution_count": null,
   "metadata": {},
   "outputs": [],
   "source": []
  },
  {
   "cell_type": "code",
   "execution_count": null,
   "metadata": {},
   "outputs": [],
   "source": []
  },
  {
   "cell_type": "code",
   "execution_count": null,
   "metadata": {},
   "outputs": [],
   "source": [
    "#Visualisation\n",
    "\n"
   ]
  }
 ],
 "metadata": {
  "kernelspec": {
   "display_name": "Python 3",
   "language": "python",
   "name": "python3"
  },
  "language_info": {
   "codemirror_mode": {
    "name": "ipython",
    "version": 2
   },
   "file_extension": ".py",
   "mimetype": "text/x-python",
   "name": "python",
   "nbconvert_exporter": "python",
   "pygments_lexer": "ipython2",
   "version": "2.7.13"
  }
 },
 "nbformat": 4,
 "nbformat_minor": 2
}
